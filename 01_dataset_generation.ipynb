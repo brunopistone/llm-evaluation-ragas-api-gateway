{
 "cells": [
  {
   "cell_type": "markdown",
   "metadata": {
    "collapsed": false
   },
   "source": [
    "# Synthetic dataset generation"
   ]
  },
  {
   "cell_type": "markdown",
   "metadata": {
    "collapsed": false
   },
   "source": [
    "---\n",
    "\n",
    "In this demo notebook, we are going to create a sample dataset to be used for the future RAG evaluation"
   ]
  },
  {
   "cell_type": "markdown",
   "metadata": {
    "collapsed": false
   },
   "source": [
    "Install the required libriaries, including the Hugging Face libraries, and restart the kernel."
   ]
  },
  {
   "cell_type": "code",
   "execution_count": null,
   "metadata": {
    "ExecuteTime": {
     "start_time": "2023-12-15T11:05:15.433025Z",
     "end_time": "2023-12-15T11:05:24.991442Z"
    },
    "collapsed": false
   },
   "outputs": [],
   "source": [
    "%pip install -q -U langchain==0.0.350\n",
    "%pip install -q -U llama-index\n",
    "%pip install -q -U ragas"
   ]
  },
  {
   "cell_type": "markdown",
   "metadata": {
    "collapsed": false
   },
   "source": [
    "## Data Generation"
   ]
  },
  {
   "cell_type": "code",
   "execution_count": null,
   "metadata": {
    "ExecuteTime": {
     "start_time": "2023-12-15T12:01:37.741156Z",
     "end_time": "2023-12-15T12:01:37.746992Z"
    },
    "collapsed": false
   },
   "outputs": [],
   "source": [
    "api_url = \"<API_URL>\"\n",
    "api_key = \"<API_KEY>\"\n",
    "\n",
    "llm_generator = \"anthropic.claude-instant-v1\"\n",
    "llm_critic = \"anthropic.claude-v2.1\"\n",
    "embeddings = \"amazon.titan-embed-text-v1\"\n",
    "threshold = 0.0\n",
    "test_size = 10\n",
    "\n",
    "headers = {\n",
    "    'x-api-key': api_key,\n",
    "    'team_id': 'llm-rag-evaluation'\n",
    "}\n",
    "headers = \" \".join([f\"{k}={v}\" for k,v in headers.items()])\n",
    "\n",
    "headers"
   ]
  },
  {
   "cell_type": "code",
   "execution_count": null,
   "metadata": {
    "ExecuteTime": {
     "start_time": "2023-12-15T12:01:39.547892Z",
     "end_time": "2023-12-15T12:04:20.939317Z"
    },
    "collapsed": false
   },
   "outputs": [],
   "source": [
    "! python ./scripts/dataset_generation.py $api_url $llm_generator $llm_critic $embeddings $threshold $test_size $headers"
   ]
  }
 ],
 "metadata": {
  "kernelspec": {
   "display_name": "Python 3",
   "language": "python",
   "name": "python3"
  },
  "language_info": {
   "codemirror_mode": {
    "name": "ipython",
    "version": 2
   },
   "file_extension": ".py",
   "mimetype": "text/x-python",
   "name": "python",
   "nbconvert_exporter": "python",
   "pygments_lexer": "ipython2",
   "version": "2.7.6"
  }
 },
 "nbformat": 4,
 "nbformat_minor": 0
}
