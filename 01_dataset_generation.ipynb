{
 "cells": [
  {
   "cell_type": "markdown",
   "source": [
    "# Synthetic dataset generation"
   ],
   "metadata": {
    "collapsed": false
   }
  },
  {
   "cell_type": "markdown",
   "source": [
    "---\n",
    "\n",
    "In this demo notebook, we are going to create a sample dataset to be used for the future RAG evaluation"
   ],
   "metadata": {
    "collapsed": false
   }
  },
  {
   "cell_type": "markdown",
   "source": [
    "Install the required libriaries, including the Hugging Face libraries, and restart the kernel."
   ],
   "metadata": {
    "collapsed": false
   }
  },
  {
   "cell_type": "code",
   "execution_count": null,
   "outputs": [],
   "source": [
    "%pip install -q -U langchain==0.0.335\n",
    "%pip install -q -U llama-index\n",
    "%pip install -q -U ragas"
   ],
   "metadata": {
    "collapsed": false,
    "ExecuteTime": {
     "start_time": "2023-11-15T17:32:59.366416Z",
     "end_time": "2023-11-15T17:33:09.013393Z"
    }
   }
  },
  {
   "cell_type": "markdown",
   "source": [
    "## Data Generation"
   ],
   "metadata": {
    "collapsed": false
   }
  },
  {
   "cell_type": "code",
   "execution_count": null,
   "outputs": [],
   "source": [
    "api_url = \"<API_URL>\"\n",
    "api_key = \"<API_KEY>\"\n",
    "\n",
    "llm_generator = \"anthropic.claude-instant-v1\"\n",
    "llm_critic = \"anthropic.claude-v2\"\n",
    "embeddings = \"amazon.titan-embed-text-v1\"\n",
    "threshold = 0.0\n",
    "test_size = 10\n",
    "\n",
    "headers = {\n",
    "    'x-api-key': api_key,\n",
    "    'team_id': 'llm-rag-evaluation'\n",
    "}\n",
    "headers = \" \".join([f\"{k}={v}\" for k,v in headers.items()])\n",
    "\n",
    "headers"
   ],
   "metadata": {
    "collapsed": false,
    "ExecuteTime": {
     "start_time": "2023-11-17T23:30:01.890421Z",
     "end_time": "2023-11-17T23:30:01.902302Z"
    }
   }
  },
  {
   "cell_type": "code",
   "execution_count": null,
   "outputs": [],
   "source": [
    "! python ./scripts/dataset_generation.py $api_url $llm_generator $llm_critic $embeddings $threshold $test_size $headers"
   ],
   "metadata": {
    "collapsed": false,
    "ExecuteTime": {
     "start_time": "2023-11-17T23:33:01.807765Z",
     "end_time": "2023-11-17T23:40:20.682882Z"
    }
   }
  }
 ],
 "metadata": {
  "kernelspec": {
   "display_name": "Python 3",
   "language": "python",
   "name": "python3"
  },
  "language_info": {
   "codemirror_mode": {
    "name": "ipython",
    "version": 2
   },
   "file_extension": ".py",
   "mimetype": "text/x-python",
   "name": "python",
   "nbconvert_exporter": "python",
   "pygments_lexer": "ipython2",
   "version": "2.7.6"
  }
 },
 "nbformat": 4,
 "nbformat_minor": 0
}
