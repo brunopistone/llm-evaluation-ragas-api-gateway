{
 "cells": [
  {
   "cell_type": "markdown",
   "source": [
    "# Evaluation with Ragas"
   ],
   "metadata": {
    "collapsed": false
   }
  },
  {
   "cell_type": "markdown",
   "source": [
    "---\n",
    "\n",
    "In this notebook, we are going to evaluate the dataset generated in the notebook [01_dataset_generation.ipynb](01_dataset_generation.ipynb) by using Foundation Models (FMs) exposed through Amazon API Gateway"
   ],
   "metadata": {
    "collapsed": false
   }
  },
  {
   "cell_type": "markdown",
   "source": [
    "Install the required libriaries, including the Hugging Face libraries, and restart the kernel."
   ],
   "metadata": {
    "collapsed": false
   }
  },
  {
   "cell_type": "code",
   "execution_count": null,
   "outputs": [],
   "source": [
    "%pip install -q -U langchain==0.0.335\n",
    "%pip install -q -U llama-index\n",
    "%pip install -q -U ragas"
   ],
   "metadata": {
    "collapsed": false
   }
  },
  {
   "cell_type": "markdown",
   "source": [
    "## Evaluation"
   ],
   "metadata": {
    "collapsed": false
   }
  },
  {
   "cell_type": "code",
   "execution_count": null,
   "outputs": [],
   "source": [
    "api_url = \"<API_URL>\"\n",
    "api_key = \"<API_KEY>\"\n",
    "\n",
    "data_path = \"./dataset.csv\"\n",
    "llm = \"anthropic.claude-v2\"\n",
    "embeddings = \"amazon.titan-embed-text-v1\"\n",
    "\n",
    "headers = {\n",
    "    'x-api-key': api_key,\n",
    "    'team_id': 'llm-rag-evaluation'\n",
    "}\n",
    "headers = \" \".join([f\"{k}={v}\" for k,v in headers.items()])\n",
    "\n",
    "headers"
   ],
   "metadata": {
    "collapsed": false,
    "ExecuteTime": {
     "start_time": "2023-11-17T23:40:44.218759Z",
     "end_time": "2023-11-17T23:40:44.224433Z"
    }
   }
  },
  {
   "cell_type": "code",
   "execution_count": null,
   "outputs": [],
   "source": [
    "! python ./scripts/evaluation.py $data_path $api_url $llm $embeddings $headers"
   ],
   "metadata": {
    "collapsed": false,
    "ExecuteTime": {
     "start_time": "2023-11-17T23:44:27.279879Z",
     "end_time": "2023-11-17T23:49:14.623673Z"
    }
   }
  }
 ],
 "metadata": {
  "kernelspec": {
   "display_name": "Python 3",
   "language": "python",
   "name": "python3"
  },
  "language_info": {
   "codemirror_mode": {
    "name": "ipython",
    "version": 2
   },
   "file_extension": ".py",
   "mimetype": "text/x-python",
   "name": "python",
   "nbconvert_exporter": "python",
   "pygments_lexer": "ipython2",
   "version": "2.7.6"
  }
 },
 "nbformat": 4,
 "nbformat_minor": 0
}
